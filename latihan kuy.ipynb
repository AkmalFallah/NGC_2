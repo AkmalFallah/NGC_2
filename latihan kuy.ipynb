{
 "cells": [
  {
   "cell_type": "code",
   "execution_count": 1,
   "metadata": {},
   "outputs": [
    {
     "name": "stdout",
     "output_type": "stream",
     "text": [
      "Number of words in the sentence: 5\n"
     ]
    }
   ],
   "source": [
    "def number_of_words(sentence):\n",
    "    # Split the sentence into a list of words using the split() method\n",
    "    words = sentence.split()\n",
    "    \n",
    "    # Use len() to count the number of words in the list\n",
    "    word_count = len(words)\n",
    "    \n",
    "    # Return the word count\n",
    "    return word_count\n",
    "\n",
    "# Example usage:\n",
    "sentence = \"This is a sample sentence.\"\n",
    "count = number_of_words(sentence)\n",
    "print(\"Number of words in the sentence:\", count)\n"
   ]
  },
  {
   "cell_type": "code",
   "execution_count": 2,
   "metadata": {},
   "outputs": [
    {
     "name": "stdout",
     "output_type": "stream",
     "text": [
      "Multiples of 4 between 1 and 20: [4, 8, 12, 16, 20]\n"
     ]
    }
   ],
   "source": [
    "def find_multiples(start_range, end_range, multiple):\n",
    "    # Initialize an empty list to store the multiples\n",
    "    multiples_list = []\n",
    "\n",
    "    # Iterate through the numbers in the given range\n",
    "    for number in range(start_range, end_range + 1):\n",
    "        # Check if the number is a multiple of the specified 'multiple'\n",
    "        if number % multiple == 0:\n",
    "            multiples_list.append(number)\n",
    "\n",
    "    # Return the list of multiples\n",
    "    return multiples_list\n",
    "\n",
    "# Example usage:\n",
    "start_range = 1\n",
    "end_range = 20\n",
    "multiple = 4\n",
    "result = find_multiples(start_range, end_range, multiple)\n",
    "print(f\"Multiples of {multiple} between {start_range} and {end_range}: {result}\")\n"
   ]
  },
  {
   "cell_type": "code",
   "execution_count": 3,
   "metadata": {},
   "outputs": [
    {
     "name": "stdout",
     "output_type": "stream",
     "text": [
      "Letter Grades: {'Alice': 'A', 'Bob': 'B', 'Charlie': 'C', 'David': 'E', 'Eve': 'F'}\n",
      "GPAs: {'Alice': 4.0, 'Bob': 3.0, 'Charlie': 2.5, 'David': 1.5, 'Eve': 1.0}\n"
     ]
    }
   ],
   "source": [
    "def Grade_Converter(convert_to, **kwargs):\n",
    "    # Define the grading criteria\n",
    "    grading_criteria = {\n",
    "        'A': (85, 100, 4.0),\n",
    "        'B': (70, 84.99, 3.0),\n",
    "        'C': (60, 69.99, 2.5),\n",
    "        'D': (50, 59.99, 2.0),\n",
    "        'E': (40, 49.99, 1.5),\n",
    "        'F': (0, 39.99, 1.0)\n",
    "    }\n",
    "\n",
    "    result = {}\n",
    "\n",
    "    # Iterate through the keyword arguments (student name and score pairs)\n",
    "    for student, score in kwargs.items():\n",
    "        # Check if 'convert_to' is 'letter_grade'\n",
    "        if convert_to == 'letter_grade':\n",
    "            # Convert score to letter grade\n",
    "            for grade, (min_score, max_score, gpa) in grading_criteria.items():\n",
    "                if min_score <= score <= max_score:\n",
    "                    result[student] = grade\n",
    "                    break\n",
    "        # Check if 'convert_to' is 'gpa'\n",
    "        elif convert_to == 'gpa':\n",
    "            # Convert score to GPA\n",
    "            for grade, (min_score, max_score, gpa) in grading_criteria.items():\n",
    "                if min_score <= score <= max_score:\n",
    "                    result[student] = gpa\n",
    "                    break\n",
    "        else:\n",
    "            return \"Invalid 'convert_to' value. Please use 'letter_grade' or 'gpa'.\"\n",
    "\n",
    "    return result\n",
    "\n",
    "# Example usage:\n",
    "student_scores = {\n",
    "    'Alice': 92,\n",
    "    'Bob': 75,\n",
    "    'Charlie': 60,\n",
    "    'David': 45,\n",
    "    'Eve': 25\n",
    "}\n",
    "\n",
    "# Convert scores to letter grades\n",
    "letter_grades = Grade_Converter('letter_grade', **student_scores)\n",
    "print(\"Letter Grades:\", letter_grades)\n",
    "\n",
    "# Convert scores to GPAs\n",
    "gpas = Grade_Converter('gpa', **student_scores)\n",
    "print(\"GPAs:\", gpas)\n"
   ]
  },
  {
   "cell_type": "code",
   "execution_count": 4,
   "metadata": {},
   "outputs": [
    {
     "name": "stdout",
     "output_type": "stream",
     "text": [
      "The 10-th value in the Fibonacci sequence is: 55\n"
     ]
    }
   ],
   "source": [
    "def fibonacci(n):\n",
    "    # Base case: If n is 0 or 1, return n\n",
    "    if n <= 1:\n",
    "        return n\n",
    "    # Recursive case: Calculate Fibonacci sequence using recursion\n",
    "    else:\n",
    "        return fibonacci(n - 1) + fibonacci(n - 2)\n",
    "\n",
    "# Example usage:\n",
    "n = 10  # Replace with the desired index in the Fibonacci sequence\n",
    "result = fibonacci(n)\n",
    "print(f\"The {n}-th value in the Fibonacci sequence is: {result}\")"
   ]
  }
 ],
 "metadata": {
  "kernelspec": {
   "display_name": "Python 3",
   "language": "python",
   "name": "python3"
  },
  "language_info": {
   "codemirror_mode": {
    "name": "ipython",
    "version": 3
   },
   "file_extension": ".py",
   "mimetype": "text/x-python",
   "name": "python",
   "nbconvert_exporter": "python",
   "pygments_lexer": "ipython3",
   "version": "3.11.5"
  },
  "orig_nbformat": 4
 },
 "nbformat": 4,
 "nbformat_minor": 2
}
