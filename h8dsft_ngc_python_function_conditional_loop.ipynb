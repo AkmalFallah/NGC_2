{
 "cells": [
  {
   "cell_type": "code",
   "execution_count": 2,
   "metadata": {},
   "outputs": [],
   "source": [
    "def menemukan_jumlah_kalimat():\n",
    "    '''badan fungsi dari split dan len'''\n",
    "    txtA = \"Hello World\"\n",
    "    txtB = \"Once Upon a Time in a faraway land\"\n",
    "\n",
    "    x = txtA.split(\" \")\n",
    "    y = len(txtA)\n",
    "\n",
    "    a = txtB.split(\" \")\n",
    "    b = len(txtB)\n",
    "    menemukan_jumlah_kalimat(txtA, txtB)\n",
    "\n",
    "    print(\"Hasil pemisahan txtA:\", x)\n",
    "    print(\"Jumlah kata di txtA:\", y)\n",
    "\n",
    "    print(\"Haisil pemisahan txtB:\", a)\n",
    "    print(\"Jumlah kata di txtB:\", b)"
   ]
  },
  {
   "cell_type": "code",
   "execution_count": 1,
   "metadata": {},
   "outputs": [
    {
     "name": "stdout",
     "output_type": "stream",
     "text": [
      "Hasil pemisahan txtA: ['Hello', 'World']\n",
      "Jumlah kata di txtA: 11\n",
      "Hasil pemisahan txtB: ['Once', 'Upon', 'a', 'Time', 'in', 'a', 'faraway', 'land']\n",
      "Jumlah kata di txtB: 34\n"
     ]
    }
   ],
   "source": [
    "def\n",
    "    txtA = \"Hello World\"\n",
    "    txtB = \"Once Upon a Time in a faraway land\"\n",
    "\n",
    "    # Menggunakan metode split() untuk memisahkan string menjadi kata-kata\n",
    "    x = txtA.split(\" \")\n",
    "    y = len(txtA)\n",
    "\n",
    "    a = txtB.split(\" \")\n",
    "    b = len(txtB)\n",
    "\n",
    "    # Menampilkan hasil pemisahan dan perhitungan panjang string\n",
    "    print(\"Hasil pemisahan txtA:\", x)\n",
    "    print(\"Jumlah kata di txtA:\", y)\n",
    "\n",
    "    print(\"Hasil pemisahan txtB:\", a)\n",
    "    print(\"Jumlah kata di txtB:\", b)"
   ]
  },
  {
   "cell_type": "code",
   "execution_count": null,
   "metadata": {},
   "outputs": [],
   "source": [
    "def number_of_word(sentence):\n",
    "    # Split the sentence into a list of words using the .split() method\n",
    "    words = sentence.split()\n",
    "    \n",
    "    # Use the len() function to count the number of words in the list\n",
    "    num_words = len(words)\n",
    "    \n",
    "    # Return the number of words\n",
    "    return num_words"
   ]
  },
  {
   "cell_type": "markdown",
   "metadata": {},
   "source": []
  }
 ],
 "metadata": {
  "kernelspec": {
   "display_name": "Python 3",
   "language": "python",
   "name": "python3"
  },
  "language_info": {
   "codemirror_mode": {
    "name": "ipython",
    "version": 3
   },
   "file_extension": ".py",
   "mimetype": "text/x-python",
   "name": "python",
   "nbconvert_exporter": "python",
   "pygments_lexer": "ipython3",
   "version": "3.11.5"
  },
  "orig_nbformat": 4
 },
 "nbformat": 4,
 "nbformat_minor": 2
}
